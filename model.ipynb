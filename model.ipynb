{
 "cells": [
  {
   "cell_type": "code",
   "execution_count": 1,
   "outputs": [],
   "source": [
    "import random\n",
    "import numpy as np\n",
    "import pandas as pd\n",
    "import matplotlib.pyplot as plt"
   ],
   "metadata": {
    "collapsed": false
   }
  },
  {
   "cell_type": "code",
   "execution_count": 2,
   "outputs": [],
   "source": [
    "class Message:\n",
    "    def __init__(self, information, veracity):\n",
    "        self.information = information\n",
    "        self.veracity = veracity\n",
    "\n",
    "class BiasedAgent:\n",
    "    def __init__(self, unique_id, true_state, incoming_message):\n",
    "        self.unique_id = unique_id\n",
    "        self.true_state = true_state\n",
    "        self.incoming_message = incoming_message\n",
    "\n",
    "    def communication_strat(self):\n",
    "        judgement = None\n",
    "        # Create a new message if agent is the first agent\n",
    "        if self.unique_id == 0 and self.true_state == 1:\n",
    "            judgement = 1\n",
    "            self.incoming_message = Message(self.true_state, judgement)\n",
    "        elif self.incoming_message == 1:\n",
    "            judgement = 1\n",
    "            message = Message(information = judgement, veracity=self.true_state)\n",
    "            return message\n",
    "\n",
    "\n",
    "\n",
    "class UnbiasedAgent:\n",
    "    def __init__(self, unique_id, prior_belief, p_tie, true_state, incoming_message, share_biased_agents):\n",
    "        self.unique_id = unique_id\n",
    "        self.p_tie = p_tie\n",
    "        self.prior_belief = prior_belief\n",
    "        self.true_state = true_state\n",
    "        self.incoming_message = incoming_message\n",
    "        self.share_biased_agents = share_biased_agents\n",
    "        self.new_belief = self.update_belief()\n",
    "\n",
    "    def update_belief(self):\n",
    "        return self.prior_belief/(self.share_biased_agents+(1-self.share_biased_agents*self.prior_belief))\n",
    "\n",
    "    def communication_strat(self):\n",
    "        judgement = None\n",
    "        if self.unique_id == 0:\n",
    "            if self.true_state == 0:\n",
    "                judgement = 0\n",
    "            elif self.true_state==1 and self.prior_belief > 0.5:\n",
    "                judgement = 1\n",
    "            self.incoming_message = Message(self.true_state, judgement)\n",
    "        elif self.unique_id >0:\n",
    "            if self.incoming_message.information == 0:\n",
    "                judgement = 0\n",
    "            elif self.incoming_message.information == 0 and self.new_belief>0.5:\n",
    "                judgement = 1\n",
    "            message = Message(self.true_state, judgement)\n",
    "            return message\n"
   ],
   "metadata": {
    "collapsed": false
   }
  },
  {
   "cell_type": "code",
   "execution_count": 9,
   "outputs": [],
   "source": [
    "class RumorModel:\n",
    "    def __init__(self, N, prior_belief, p_bias, p_tie, h, true_state):\n",
    "        self.num_agents = N\n",
    "        self.prior_belief = prior_belief\n",
    "        self.p_bias = p_bias\n",
    "        self.p_tie = p_tie\n",
    "        self.h = h\n",
    "        self.schedule = []\n",
    "        self.true_state = true_state\n",
    "        self.num_biased_agents = 0\n",
    "        self.evaluate_self_correction = []\n",
    "\n",
    "    def run_model(self):\n",
    "        for i in range(self.num_agents):\n",
    "            # Init Message\n",
    "            if i == 0 and  random.random() < self.p_bias:\n",
    "                b = BiasedAgent(unique_id=i, true_state = self.true_state, incoming_message=None)\n",
    "                self.schedule.append(b)\n",
    "                self.num_biased_agents+=1\n",
    "\n",
    "            elif i == 0:\n",
    "                u = UnbiasedAgent(unique_id = i, prior_belief=self.prior_belief, true_state=self.true_state, incoming_message=None, p_tie = self.p_tie, share_biased_agents=0)\n",
    "                self.schedule.append(u)\n",
    "\n",
    "            biased_prob = random.random()\n",
    "            if i>0 and biased_prob < self.p_bias:\n",
    "                connect, similar = self.connection_prob()\n",
    "                if connect:\n",
    "                    index = len(self.schedule)-1\n",
    "                else:\n",
    "                    index = random.randint(0,len(self.schedule)-1)\n",
    "                agent_to_connect = self.schedule[index]\n",
    "                if similar and isinstance(agent_to_connect, BiasedAgent):\n",
    "                    b = BiasedAgent(i,  true_state = self.true_state, incoming_message=agent_to_connect.incoming_message)\n",
    "                    self.schedule.append(b)\n",
    "                    self.num_biased_agents+=1\n",
    "                elif not connect:\n",
    "                    b = BiasedAgent(i,  true_state = self.true_state, incoming_message=agent_to_connect.incoming_message)\n",
    "                    self.schedule.append(b)\n",
    "                    self.num_biased_agents+=1\n",
    "\n",
    "            elif i>0 and biased_prob > self.p_bias:\n",
    "                connect, similar = self.connection_prob()\n",
    "                if connect:\n",
    "                    index = len(self.schedule)-1\n",
    "                else:\n",
    "                    index = random.randint(0,len(self.schedule)-1)\n",
    "                agent_to_connect = self.schedule[index]\n",
    "\n",
    "                if similar and isinstance(agent_to_connect, UnbiasedAgent):\n",
    "                    u = UnbiasedAgent(unique_id = i, prior_belief=self.prior_belief, true_state=self.true_state, incoming_message=agent_to_connect.incoming_message, p_tie = self.p_tie, share_biased_agents=self.num_biased_agents/self.num_agents)\n",
    "                    if u.update_belief()>0.5:\n",
    "                        self.evaluate_self_correction.append(1)\n",
    "                    else:\n",
    "                        self.evaluate_self_correction.append(0)\n",
    "                    self.schedule.append(u)\n",
    "\n",
    "                elif not connect:\n",
    "                    u = UnbiasedAgent(unique_id = i, prior_belief=self.prior_belief, true_state=self.true_state, incoming_message=agent_to_connect.incoming_message, p_tie = self.p_tie, share_biased_agents=self.num_biased_agents/self.num_agents)\n",
    "                    if u.update_belief()>0.5:\n",
    "                        self.evaluate_self_correction.append(1)\n",
    "                    else:\n",
    "                        self.evaluate_self_correction.append(0)\n",
    "                    self.schedule.append(u)\n",
    "\n",
    "\n",
    "\n",
    "# Determining whether agents connect to prior agent or to randomly chosen other agent\n",
    "    def connection_prob(self):\n",
    "        connect, similar = False, False\n",
    "        if self.p_tie > random.random():\n",
    "            connect = True\n",
    "        if self.h > random.random():\n",
    "            similar = True\n",
    "        return connect, similar\n",
    "\n"
   ],
   "metadata": {
    "collapsed": false
   }
  },
  {
   "cell_type": "code",
   "execution_count": 4,
   "outputs": [
    {
     "ename": "NameError",
     "evalue": "name 'i' is not defined",
     "output_type": "error",
     "traceback": [
      "\u001B[0;31m---------------------------------------------------------------------------\u001B[0m",
      "\u001B[0;31mNameError\u001B[0m                                 Traceback (most recent call last)",
      "Input \u001B[0;32mIn [4]\u001B[0m, in \u001B[0;36m<module>\u001B[0;34m\u001B[0m\n\u001B[0;32m----> 1\u001B[0m model \u001B[38;5;241m=\u001B[39m RumorModel(N\u001B[38;5;241m=\u001B[39m\u001B[38;5;241m10000\u001B[39m, prior_belief\u001B[38;5;241m=\u001B[39m\u001B[43mi\u001B[49m, p_bias\u001B[38;5;241m=\u001B[39m\u001B[38;5;241m0.5\u001B[39m, p_tie\u001B[38;5;241m=\u001B[39m\u001B[38;5;241m0.9\u001B[39m, h\u001B[38;5;241m=\u001B[39m\u001B[38;5;241m0.1\u001B[39m, true_state\u001B[38;5;241m=\u001B[39m\u001B[38;5;28;01mTrue\u001B[39;00m)\n\u001B[1;32m      2\u001B[0m model\u001B[38;5;241m.\u001B[39mrun_model()\n",
      "\u001B[0;31mNameError\u001B[0m: name 'i' is not defined"
     ]
    }
   ],
   "source": [
    "model = RumorModel(N=10000, prior_belief=0.5, p_bias=0.5, p_tie=0.9, h=0.1, true_state=True)\n",
    "model.run_model()"
   ],
   "metadata": {
    "collapsed": false
   }
  },
  {
   "cell_type": "code",
   "execution_count": 46,
   "outputs": [
    {
     "data": {
      "text/plain": "(0.0, 1.1)"
     },
     "execution_count": 46,
     "metadata": {},
     "output_type": "execute_result"
    },
    {
     "data": {
      "text/plain": "<Figure size 432x288 with 1 Axes>",
      "image/png": "[encoded data removed]"
     },
     "metadata": {
      "needs_background": "light"
     },
     "output_type": "display_data"
    }
   ],
   "source": [
    "ranges = np.arange(0.1, 1.1, 0.1)\n",
    "results = []\n",
    "\n",
    "for i in ranges:\n",
    "    model = RumorModel(N=10000, prior_belief=0.6, p_bias=i, p_tie=0.9, h=0.9, true_state=False)\n",
    "    model.run_model()\n",
    "    try:\n",
    "        results.append(sum(model.evaluate_self_correction) / len(model.evaluate_self_correction))\n",
    "    except ZeroDivisionError:\n",
    "        results.append(0)\n",
    "plt.plot(ranges, results)\n",
    "plt.xlabel('Prior Belief')\n",
    "plt.ylabel('Veracity')\n",
    "plt.title(\"p_bias=0.5, p_tie = 0.9, h = 0.9\")\n",
    "plt.ylim(0, 1.1)\n",
    "#plt.savefig('prior_1.png')"
   ],
   "metadata": {
    "collapsed": false
   }
  },
  {
   "cell_type": "code",
   "execution_count": 20,
   "outputs": [
    {
     "name": "stdout",
     "output_type": "stream",
     "text": [
      "model.ipynb  p_bias_1.png  p_bias.png  prior_1.png  prior.png\r\n"
     ]
    }
   ],
   "source": [
    "!ls"
   ],
   "metadata": {
    "collapsed": false
   }
  }
 ],
 "metadata": {
  "kernelspec": {
   "display_name": "Python 3",
   "language": "python",
   "name": "python3"
  },
  "language_info": {
   "codemirror_mode": {
    "name": "ipython",
    "version": 2
   },
   "file_extension": ".py",
   "mimetype": "text/x-python",
   "name": "python",
   "nbconvert_exporter": "python",
   "pygments_lexer": "ipython2",
   "version": "2.7.6"
  }
 },
 "nbformat": 4,
 "nbformat_minor": 0
}
